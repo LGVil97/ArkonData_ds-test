{
 "cells": [
  {
   "cell_type": "markdown",
   "metadata": {},
   "source": [
    "(1) Carga de datos - Dataset de entrenamiento a dataframe"
   ]
  },
  {
   "cell_type": "code",
   "execution_count": 1,
   "metadata": {},
   "outputs": [
    {
     "name": "stderr",
     "output_type": "stream",
     "text": [
      "C:\\Users\\gerar\\AppData\\Local\\Temp\\ipykernel_20820\\2877211572.py:6: DtypeWarning: Columns (8) have mixed types. Specify dtype option on import or set low_memory=False.\n",
      "  df_bikeshare_train_fe = pd.read_csv(csv_bikeshare_train_fe)\n"
     ]
    }
   ],
   "source": [
    "import pandas as pd\n",
    "\n",
    "\n",
    "\n",
    "csv_bikeshare_train_fe = \"../datasets/train_set_fe.csv\"\n",
    "df_bikeshare_train_fe = pd.read_csv(csv_bikeshare_train_fe)"
   ]
  },
  {
   "cell_type": "markdown",
   "metadata": {},
   "source": [
    "(2) EDA - Analizar las propiedades básicas del dataset"
   ]
  },
  {
   "cell_type": "code",
   "execution_count": 2,
   "metadata": {},
   "outputs": [
    {
     "name": "stdout",
     "output_type": "stream",
     "text": [
      "<class 'pandas.core.frame.DataFrame'>\n",
      "RangeIndex: 675561 entries, 0 to 675560\n",
      "Data columns (total 21 columns):\n",
      " #   Column               Non-Null Count   Dtype  \n",
      "---  ------               --------------   -----  \n",
      " 0   trip_id              675561 non-null  int64  \n",
      " 1   duration             675561 non-null  int64  \n",
      " 2   start_time           675561 non-null  object \n",
      " 3   end_time             675561 non-null  object \n",
      " 4   start_lat            675561 non-null  float64\n",
      " 5   start_lon            675561 non-null  float64\n",
      " 6   end_lat              675561 non-null  float64\n",
      " 7   end_lon              675561 non-null  float64\n",
      " 8   bike_id              675561 non-null  object \n",
      " 9   plan_duration        675561 non-null  int64  \n",
      " 10  trip_route_category  675561 non-null  object \n",
      " 11  passholder_type      675561 non-null  object \n",
      " 12  start_station        675561 non-null  int64  \n",
      " 13  end_station          675561 non-null  int64  \n",
      " 14  distance_km          675561 non-null  float64\n",
      " 15  start_hour           675561 non-null  int64  \n",
      " 16  start_weekday        675561 non-null  int64  \n",
      " 17  start_month          675561 non-null  int64  \n",
      " 18  start_year           675561 non-null  int64  \n",
      " 19  start_season         675561 non-null  int64  \n",
      " 20  start_day_type       675561 non-null  int64  \n",
      "dtypes: float64(5), int64(11), object(5)\n",
      "memory usage: 108.2+ MB\n"
     ]
    }
   ],
   "source": [
    "df_bikeshare_train_fe.info()"
   ]
  },
  {
   "cell_type": "code",
   "execution_count": 3,
   "metadata": {},
   "outputs": [
    {
     "data": {
      "text/html": [
       "<div>\n",
       "<style scoped>\n",
       "    .dataframe tbody tr th:only-of-type {\n",
       "        vertical-align: middle;\n",
       "    }\n",
       "\n",
       "    .dataframe tbody tr th {\n",
       "        vertical-align: top;\n",
       "    }\n",
       "\n",
       "    .dataframe thead th {\n",
       "        text-align: right;\n",
       "    }\n",
       "</style>\n",
       "<table border=\"1\" class=\"dataframe\">\n",
       "  <thead>\n",
       "    <tr style=\"text-align: right;\">\n",
       "      <th></th>\n",
       "      <th>trip_id</th>\n",
       "      <th>duration</th>\n",
       "      <th>start_lat</th>\n",
       "      <th>start_lon</th>\n",
       "      <th>end_lat</th>\n",
       "      <th>end_lon</th>\n",
       "      <th>plan_duration</th>\n",
       "      <th>start_station</th>\n",
       "      <th>end_station</th>\n",
       "      <th>distance_km</th>\n",
       "      <th>start_hour</th>\n",
       "      <th>start_weekday</th>\n",
       "      <th>start_month</th>\n",
       "      <th>start_year</th>\n",
       "      <th>start_season</th>\n",
       "      <th>start_day_type</th>\n",
       "    </tr>\n",
       "  </thead>\n",
       "  <tbody>\n",
       "    <tr>\n",
       "      <th>count</th>\n",
       "      <td>6.755610e+05</td>\n",
       "      <td>675561.000000</td>\n",
       "      <td>675561.000000</td>\n",
       "      <td>675561.000000</td>\n",
       "      <td>675561.000000</td>\n",
       "      <td>675561.000000</td>\n",
       "      <td>675561.000000</td>\n",
       "      <td>675561.000000</td>\n",
       "      <td>675561.000000</td>\n",
       "      <td>675561.000000</td>\n",
       "      <td>675561.000000</td>\n",
       "      <td>675561.000000</td>\n",
       "      <td>675561.000000</td>\n",
       "      <td>675561.000000</td>\n",
       "      <td>675561.000000</td>\n",
       "      <td>675561.000000</td>\n",
       "    </tr>\n",
       "    <tr>\n",
       "      <th>mean</th>\n",
       "      <td>1.063429e+08</td>\n",
       "      <td>31.096446</td>\n",
       "      <td>34.044957</td>\n",
       "      <td>-118.253713</td>\n",
       "      <td>34.043957</td>\n",
       "      <td>-118.260345</td>\n",
       "      <td>44.823416</td>\n",
       "      <td>3487.002564</td>\n",
       "      <td>3486.666991</td>\n",
       "      <td>2.646408</td>\n",
       "      <td>14.136901</td>\n",
       "      <td>3.011598</td>\n",
       "      <td>6.758259</td>\n",
       "      <td>2018.731024</td>\n",
       "      <td>2.482097</td>\n",
       "      <td>0.281379</td>\n",
       "    </tr>\n",
       "    <tr>\n",
       "      <th>std</th>\n",
       "      <td>4.513873e+07</td>\n",
       "      <td>92.758927</td>\n",
       "      <td>0.320044</td>\n",
       "      <td>2.295462</td>\n",
       "      <td>0.290416</td>\n",
       "      <td>2.061921</td>\n",
       "      <td>92.204557</td>\n",
       "      <td>611.550042</td>\n",
       "      <td>611.238837</td>\n",
       "      <td>118.530430</td>\n",
       "      <td>4.653235</td>\n",
       "      <td>1.979175</td>\n",
       "      <td>3.352157</td>\n",
       "      <td>1.404649</td>\n",
       "      <td>1.069148</td>\n",
       "      <td>0.449673</td>\n",
       "    </tr>\n",
       "    <tr>\n",
       "      <th>min</th>\n",
       "      <td>8.369648e+06</td>\n",
       "      <td>1.000000</td>\n",
       "      <td>33.710979</td>\n",
       "      <td>-118.495422</td>\n",
       "      <td>33.710979</td>\n",
       "      <td>-118.495422</td>\n",
       "      <td>0.000000</td>\n",
       "      <td>3000.000000</td>\n",
       "      <td>3000.000000</td>\n",
       "      <td>0.000000</td>\n",
       "      <td>0.000000</td>\n",
       "      <td>0.000000</td>\n",
       "      <td>1.000000</td>\n",
       "      <td>2016.000000</td>\n",
       "      <td>1.000000</td>\n",
       "      <td>0.000000</td>\n",
       "    </tr>\n",
       "    <tr>\n",
       "      <th>25%</th>\n",
       "      <td>7.405563e+07</td>\n",
       "      <td>7.000000</td>\n",
       "      <td>34.038609</td>\n",
       "      <td>-118.280182</td>\n",
       "      <td>34.037460</td>\n",
       "      <td>-118.280510</td>\n",
       "      <td>1.000000</td>\n",
       "      <td>3030.000000</td>\n",
       "      <td>3031.000000</td>\n",
       "      <td>0.452735</td>\n",
       "      <td>11.000000</td>\n",
       "      <td>1.000000</td>\n",
       "      <td>4.000000</td>\n",
       "      <td>2018.000000</td>\n",
       "      <td>2.000000</td>\n",
       "      <td>0.000000</td>\n",
       "    </tr>\n",
       "    <tr>\n",
       "      <th>50%</th>\n",
       "      <td>1.167950e+08</td>\n",
       "      <td>13.000000</td>\n",
       "      <td>34.046612</td>\n",
       "      <td>-118.256668</td>\n",
       "      <td>34.046520</td>\n",
       "      <td>-118.256980</td>\n",
       "      <td>30.000000</td>\n",
       "      <td>3064.000000</td>\n",
       "      <td>3064.000000</td>\n",
       "      <td>0.941241</td>\n",
       "      <td>15.000000</td>\n",
       "      <td>3.000000</td>\n",
       "      <td>7.000000</td>\n",
       "      <td>2019.000000</td>\n",
       "      <td>2.000000</td>\n",
       "      <td>0.000000</td>\n",
       "    </tr>\n",
       "    <tr>\n",
       "      <th>75%</th>\n",
       "      <td>1.397130e+08</td>\n",
       "      <td>25.000000</td>\n",
       "      <td>34.051941</td>\n",
       "      <td>-118.246422</td>\n",
       "      <td>34.050911</td>\n",
       "      <td>-118.246422</td>\n",
       "      <td>30.000000</td>\n",
       "      <td>4211.000000</td>\n",
       "      <td>4212.000000</td>\n",
       "      <td>1.632361</td>\n",
       "      <td>18.000000</td>\n",
       "      <td>5.000000</td>\n",
       "      <td>10.000000</td>\n",
       "      <td>2020.000000</td>\n",
       "      <td>3.000000</td>\n",
       "      <td>1.000000</td>\n",
       "    </tr>\n",
       "    <tr>\n",
       "      <th>max</th>\n",
       "      <td>1.794576e+08</td>\n",
       "      <td>1440.000000</td>\n",
       "      <td>55.705528</td>\n",
       "      <td>118.238258</td>\n",
       "      <td>55.705528</td>\n",
       "      <td>37.606541</td>\n",
       "      <td>999.000000</td>\n",
       "      <td>4594.000000</td>\n",
       "      <td>4594.000000</td>\n",
       "      <td>10426.960898</td>\n",
       "      <td>23.000000</td>\n",
       "      <td>6.000000</td>\n",
       "      <td>12.000000</td>\n",
       "      <td>2021.000000</td>\n",
       "      <td>4.000000</td>\n",
       "      <td>1.000000</td>\n",
       "    </tr>\n",
       "  </tbody>\n",
       "</table>\n",
       "</div>"
      ],
      "text/plain": [
       "            trip_id       duration      start_lat      start_lon  \\\n",
       "count  6.755610e+05  675561.000000  675561.000000  675561.000000   \n",
       "mean   1.063429e+08      31.096446      34.044957    -118.253713   \n",
       "std    4.513873e+07      92.758927       0.320044       2.295462   \n",
       "min    8.369648e+06       1.000000      33.710979    -118.495422   \n",
       "25%    7.405563e+07       7.000000      34.038609    -118.280182   \n",
       "50%    1.167950e+08      13.000000      34.046612    -118.256668   \n",
       "75%    1.397130e+08      25.000000      34.051941    -118.246422   \n",
       "max    1.794576e+08    1440.000000      55.705528     118.238258   \n",
       "\n",
       "             end_lat        end_lon  plan_duration  start_station  \\\n",
       "count  675561.000000  675561.000000  675561.000000  675561.000000   \n",
       "mean       34.043957    -118.260345      44.823416    3487.002564   \n",
       "std         0.290416       2.061921      92.204557     611.550042   \n",
       "min        33.710979    -118.495422       0.000000    3000.000000   \n",
       "25%        34.037460    -118.280510       1.000000    3030.000000   \n",
       "50%        34.046520    -118.256980      30.000000    3064.000000   \n",
       "75%        34.050911    -118.246422      30.000000    4211.000000   \n",
       "max        55.705528      37.606541     999.000000    4594.000000   \n",
       "\n",
       "         end_station    distance_km     start_hour  start_weekday  \\\n",
       "count  675561.000000  675561.000000  675561.000000  675561.000000   \n",
       "mean     3486.666991       2.646408      14.136901       3.011598   \n",
       "std       611.238837     118.530430       4.653235       1.979175   \n",
       "min      3000.000000       0.000000       0.000000       0.000000   \n",
       "25%      3031.000000       0.452735      11.000000       1.000000   \n",
       "50%      3064.000000       0.941241      15.000000       3.000000   \n",
       "75%      4212.000000       1.632361      18.000000       5.000000   \n",
       "max      4594.000000   10426.960898      23.000000       6.000000   \n",
       "\n",
       "         start_month     start_year   start_season  start_day_type  \n",
       "count  675561.000000  675561.000000  675561.000000   675561.000000  \n",
       "mean        6.758259    2018.731024       2.482097        0.281379  \n",
       "std         3.352157       1.404649       1.069148        0.449673  \n",
       "min         1.000000    2016.000000       1.000000        0.000000  \n",
       "25%         4.000000    2018.000000       2.000000        0.000000  \n",
       "50%         7.000000    2019.000000       2.000000        0.000000  \n",
       "75%        10.000000    2020.000000       3.000000        1.000000  \n",
       "max        12.000000    2021.000000       4.000000        1.000000  "
      ]
     },
     "execution_count": 3,
     "metadata": {},
     "output_type": "execute_result"
    }
   ],
   "source": [
    "df_bikeshare_train_fe.describe()"
   ]
  },
  {
   "cell_type": "markdown",
   "metadata": {},
   "source": [
    "(2) EDA - Analizar el balanceo de clases"
   ]
  },
  {
   "cell_type": "code",
   "execution_count": 4,
   "metadata": {},
   "outputs": [
    {
     "name": "stdout",
     "output_type": "stream",
     "text": [
      "passholder_type\n",
      "Monthly Pass    387407\n",
      "Walk-up         203850\n",
      "One Day Pass     39875\n",
      "Annual Pass      32966\n",
      "Flex Pass        11420\n",
      "Testing             43\n",
      "Name: count, dtype: int64\n"
     ]
    }
   ],
   "source": [
    "df_bikeshare_train_fe_ratio = df_bikeshare_train_fe[\"passholder_type\"].value_counts()\n",
    "print(df_bikeshare_train_fe_ratio)"
   ]
  },
  {
   "cell_type": "code",
   "execution_count": 5,
   "metadata": {},
   "outputs": [
    {
     "name": "stdout",
     "output_type": "stream",
     "text": [
      "passholder_type\n",
      "Monthly Pass    0.573460\n",
      "Walk-up         0.301749\n",
      "One Day Pass    0.059025\n",
      "Annual Pass     0.048798\n",
      "Flex Pass       0.016904\n",
      "Testing         0.000064\n",
      "Name: proportion, dtype: float64\n"
     ]
    }
   ],
   "source": [
    "df_bikeshare_train_fe_rationorm = df_bikeshare_train_fe[\"passholder_type\"].value_counts(normalize=True)\n",
    "print(df_bikeshare_train_fe_rationorm)"
   ]
  },
  {
   "cell_type": "code",
   "execution_count": 12,
   "metadata": {},
   "outputs": [
    {
     "name": "stderr",
     "output_type": "stream",
     "text": [
      "C:\\Users\\gerar\\AppData\\Local\\Temp\\ipykernel_20820\\3152424660.py:10: FutureWarning: \n",
      "\n",
      "Passing `palette` without assigning `hue` is deprecated and will be removed in v0.14.0. Assign the `x` variable to `hue` and set `legend=False` for the same effect.\n",
      "\n",
      "  sns.countplot(\n"
     ]
    },
    {
     "data": {
      "image/png": "[encoded data removed]",
      "text/plain": [
       "<Figure size 1000x600 with 1 Axes>"
      ]
     },
     "metadata": {},
     "output_type": "display_data"
    }
   ],
   "source": [
    "import matplotlib.pyplot as plt\n",
    "import seaborn as sns\n",
    "\n",
    "\n",
    "\n",
    "# Configurar el tamaño de la figura\n",
    "plt.figure(figsize=(10, 6))\n",
    "\n",
    "# Usar una paleta de colores diferente\n",
    "sns.countplot(\n",
    "    x=\"passholder_type\",\n",
    "    data=df_bikeshare_train_fe,\n",
    "    palette=\"pastel\"\n",
    ")\n",
    "\n",
    "# Agregar etiquetas y título\n",
    "plt.xlabel(\"Tipo de suscriptor\", fontsize=12)\n",
    "plt.ylabel(\"Cantidad\", fontsize=12)\n",
    "plt.title(\"Distribución de tipos de suscriptores\", fontsize=14)\n",
    "\n",
    "# Rotar etiquetas del eje X si es necesario\n",
    "plt.xticks(rotation=30, ha=\"right\")\n",
    "\n",
    "# Mostrar la gráfica\n",
    "plt.show()"
   ]
  }
 ],
 "metadata": {
  "kernelspec": {
   "display_name": "nb",
   "language": "python",
   "name": "python3"
  },
  "language_info": {
   "codemirror_mode": {
    "name": "ipython",
    "version": 3
   },
   "file_extension": ".py",
   "mimetype": "text/x-python",
   "name": "python",
   "nbconvert_exporter": "python",
   "pygments_lexer": "ipython3",
   "version": "3.10.16"
  }
 },
 "nbformat": 4,
 "nbformat_minor": 2
}
